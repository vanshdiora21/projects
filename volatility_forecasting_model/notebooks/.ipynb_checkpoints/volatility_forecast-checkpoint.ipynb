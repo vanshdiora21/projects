{
 "cells": [
  {
   "cell_type": "markdown",
   "id": "68fe552a",
   "metadata": {},
   "source": [
    "# Volatility Forecasting - GARCH Test"
   ]
  },
  {
   "cell_type": "code",
   "execution_count": 3,
   "id": "ebbb12d6",
   "metadata": {},
   "outputs": [],
   "source": [
    "import sys\n",
    "import os\n",
    "sys.path.append(os.path.abspath(\"../src\"))  # Adjust if notebook is deeper\n"
   ]
  },
  {
   "cell_type": "code",
   "execution_count": 8,
   "id": "59ff5b89",
   "metadata": {},
   "outputs": [
    {
     "name": "stderr",
     "output_type": "stream",
     "text": [
      "\r",
      "[*********************100%***********************]  1 of 1 completed"
     ]
    },
    {
     "name": "stdout",
     "output_type": "stream",
     "text": [
      "MultiIndex([( 'Close', 'AAPL'),\n",
      "            (  'High', 'AAPL'),\n",
      "            (   'Low', 'AAPL'),\n",
      "            (  'Open', 'AAPL'),\n",
      "            ('Volume', 'AAPL')],\n",
      "           names=['Price', 'Ticker'])\n"
     ]
    },
    {
     "name": "stderr",
     "output_type": "stream",
     "text": [
      "\n"
     ]
    }
   ],
   "source": [
    "print(df.columns)\n",
    "from data_loader import fetch_price_data, compute_log_returns\n",
    "\n",
    "ticker = 'AAPL'\n",
    "start_date = '2020-01-01'\n",
    "end_date = '2023-12-31'\n",
    "\n",
    "df = fetch_price_data(ticker, start_date, end_date)\n",
    "price_col = 'Adj Close' if 'Adj Close' in df.columns else df.columns[-1]  # fallback to last column\n",
    "log_returns = compute_log_returns(df[('Close', 'AAPL')])\n",
    "\n",
    "\n",
    "\n",
    "\n",
    "\n"
   ]
  },
  {
   "cell_type": "code",
   "execution_count": 9,
   "id": "1d1d33df",
   "metadata": {},
   "outputs": [
    {
     "name": "stdout",
     "output_type": "stream",
     "text": [
      "                     Constant Mean - GARCH Model Results                      \n",
      "==============================================================================\n",
      "Dep. Variable:     ('Volume', 'AAPL')   R-squared:                       0.000\n",
      "Mean Model:             Constant Mean   Adj. R-squared:                  0.000\n",
      "Vol Model:                      GARCH   Log-Likelihood:               -4698.52\n",
      "Distribution:                  Normal   AIC:                           9405.04\n",
      "Method:            Maximum Likelihood   BIC:                           9424.69\n",
      "                                        No. Observations:                 1005\n",
      "Date:                Thu, Apr 17 2025   Df Residuals:                     1004\n",
      "Time:                        11:27:31   Df Model:                            1\n",
      "                               Mean Model                               \n",
      "========================================================================\n",
      "                 coef    std err          t      P>|t|  95.0% Conf. Int.\n",
      "------------------------------------------------------------------------\n",
      "mu             0.3736      0.727      0.514      0.607 [ -1.051,  1.798]\n",
      "                              Volatility Model                              \n",
      "============================================================================\n",
      "                 coef    std err          t      P>|t|      95.0% Conf. Int.\n",
      "----------------------------------------------------------------------------\n",
      "omega        402.6239     65.039      6.191  5.997e-10 [2.752e+02,5.301e+02]\n",
      "alpha[1]       0.2658  6.797e-02      3.911  9.193e-05     [  0.133,  0.399]\n",
      "beta[1]        0.1820  9.974e-02      1.825  6.804e-02  [-1.348e-02,  0.377]\n",
      "============================================================================\n",
      "\n",
      "Covariance estimator: robust\n",
      "📈 5-day GARCH volatility forecast:\n",
      "h.1    26.543162\n",
      "h.2    26.798042\n",
      "h.3    26.911401\n",
      "h.4    26.962012\n",
      "h.5    26.984646\n",
      "Name: 2023-12-29 00:00:00, dtype: float64\n"
     ]
    }
   ],
   "source": [
    "from garch_model import fit_garch_model, forecast_volatility\n",
    "\n",
    "# Fit GARCH(1,1) model\n",
    "garch_result = fit_garch_model(log_returns)\n",
    "\n",
    "# Summary of model\n",
    "print(garch_result.summary())\n",
    "\n",
    "# Forecast volatility for the next 5 days\n",
    "forecast = forecast_volatility(garch_result, horizon=5)\n",
    "print(\"📈 5-day GARCH volatility forecast:\")\n",
    "print(forecast)\n"
   ]
  },
  {
   "cell_type": "code",
   "execution_count": null,
   "id": "eedcd5e1",
   "metadata": {},
   "outputs": [],
   "source": []
  }
 ],
 "metadata": {
  "kernelspec": {
   "display_name": "Python 3 (ipykernel)",
   "language": "python",
   "name": "python3"
  },
  "language_info": {
   "codemirror_mode": {
    "name": "ipython",
    "version": 3
   },
   "file_extension": ".py",
   "mimetype": "text/x-python",
   "name": "python",
   "nbconvert_exporter": "python",
   "pygments_lexer": "ipython3",
   "version": "3.11.5"
  }
 },
 "nbformat": 4,
 "nbformat_minor": 5
}
